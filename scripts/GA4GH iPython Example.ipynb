{
 "cells": [
  {
   "cell_type": "markdown",
   "metadata": {},
   "source": [
    "# GA4GH IPython Example Notebook"
   ]
  },
  {
   "cell_type": "markdown",
   "metadata": {},
   "source": [
    "This notebook provides an overview of how to call a the GA4GH reference server from an IPython notebook.  Before running this notebook:\n",
    "1. Install the ga4gh library\n",
    "2. Launch an instance of the reference server on localhost \"python server_dev.py\""
   ]
  },
  {
   "cell_type": "markdown",
   "metadata": {},
   "source": [
    "## Connect to GA4GH Server"
   ]
  },
  {
   "cell_type": "code",
   "execution_count": 1,
   "metadata": {
    "collapsed": false
   },
   "outputs": [],
   "source": [
    "import ga4gh.client\n",
    "baseURL = \"http://localhost:8000\"\n",
    "client = ga4gh.client.HttpClient(baseURL)"
   ]
  },
  {
   "cell_type": "markdown",
   "metadata": {},
   "source": [
    "Great! Now we can run calls to query ReferenceSets, References, Datasets, VariantSets, CallSets, Variants, ReadGroups, ReadGroupSets, & Reads"
   ]
  },
  {
   "cell_type": "markdown",
   "metadata": {},
   "source": [
    "## Search/Get ReferenceSets"
   ]
  },
  {
   "cell_type": "code",
   "execution_count": 2,
   "metadata": {
    "collapsed": false
   },
   "outputs": [
    {
     "name": "stdout",
     "output_type": "stream",
     "text": [
      "{u'description': u'TODO', u'sourceURI': u'TODO', u'assemblyId': u'TODO', u'sourceAccessions': [], u'md5checksum': u'234ea63052f999c21c2bdb6f60e61038', u'isDerived': False, u'id': u'R1JDaDM4LXN1YnNldA==', u'ncbiTaxonId': 9606, u'name': None}\n"
     ]
    }
   ],
   "source": [
    "results = client.searchReferenceSets()\n",
    "for result in results:\n",
    "    print result.toJsonDict()\n",
    "    referenceSetId = result.toJsonDict()['id']"
   ]
  },
  {
   "cell_type": "code",
   "execution_count": 3,
   "metadata": {
    "collapsed": false
   },
   "outputs": [
    {
     "name": "stdout",
     "output_type": "stream",
     "text": [
      "ReferenceSet({\"name\": null, \"sourceURI\": \"TODO\", \"assemblyId\": \"TODO\", \"sourceAccessions\": [], \"ncbiTaxonId\": 9606, \"isDerived\": false, \"id\": \"R1JDaDM4LXN1YnNldA==\", \"md5checksum\": \"234ea63052f999c21c2bdb6f60e61038\", \"description\": \"TODO\"})\n"
     ]
    }
   ],
   "source": [
    "referenceSet = client.getReferenceSet(referenceSetId)\n",
    "print referenceSet"
   ]
  },
  {
   "cell_type": "markdown",
   "metadata": {},
   "source": [
    "## Search/Get References "
   ]
  },
  {
   "cell_type": "code",
   "execution_count": 4,
   "metadata": {
    "collapsed": false
   },
   "outputs": [
    {
     "name": "stdout",
     "output_type": "stream",
     "text": [
      "{u'name': u'1', u'sourceURI': u'http://www.ebi.ac.uk/ena/data/view/CM000663.2%26range=0-138395&display=fasta', u'sourceAccessions': [u'CM000663.2.subset'], u'sourceDivergence': None, u'length': 138395, u'ncbiTaxonId': 9606, u'isDerived': False, u'id': u'R1JDaDM4LXN1YnNldDox', u'md5checksum': u'bb07c91cda4645ad8e75e375e3d6e5eb'}\n",
      "{u'name': u'2', u'sourceURI': u'http://www.ebi.ac.uk/ena/data/view/CM000664.2%26range=0-32403&display=fasta', u'sourceAccessions': [u'CM000664.2.subset'], u'sourceDivergence': None, u'length': 32403, u'ncbiTaxonId': 9606, u'isDerived': False, u'id': u'R1JDaDM4LXN1YnNldDoy', u'md5checksum': u'f513b7c19964e17092b55df262f62990'}\n",
      "{u'name': u'3', u'sourceURI': u'http://www.ebi.ac.uk/ena/data/view/CM000665.2%26range=0-81617&display=fasta', u'sourceAccessions': [u'CM000665.2.subset'], u'sourceDivergence': None, u'length': 81617, u'ncbiTaxonId': 9606, u'isDerived': False, u'id': u'R1JDaDM4LXN1YnNldDoz', u'md5checksum': u'0680724fdd32e4dba0c14db5cef24f1e'}\n"
     ]
    }
   ],
   "source": [
    "results = client.searchReferences(referenceSetId)\n",
    "for result in results:\n",
    "    print result.toJsonDict()\n",
    "    referenceId = result.toJsonDict()['id']"
   ]
  },
  {
   "cell_type": "code",
   "execution_count": 5,
   "metadata": {
    "collapsed": false
   },
   "outputs": [
    {
     "name": "stdout",
     "output_type": "stream",
     "text": [
      "Reference({\"name\": \"3\", \"sourceURI\": \"http://www.ebi.ac.uk/ena/data/view/CM000665.2%26range=0-81617&display=fasta\", \"sourceAccessions\": [\"CM000665.2.subset\"], \"sourceDivergence\": null, \"length\": 81617, \"md5checksum\": \"0680724fdd32e4dba0c14db5cef24f1e\", \"isDerived\": false, \"id\": \"R1JDaDM4LXN1YnNldDoz\", \"ncbiTaxonId\": 9606})\n"
     ]
    }
   ],
   "source": [
    "reference = client.getReference(referenceId)\n",
    "print reference"
   ]
  },
  {
   "cell_type": "markdown",
   "metadata": {},
   "source": [
    "In addition to fetching metadata about the reference, you can request the base sequence:"
   ]
  },
  {
   "cell_type": "code",
   "execution_count": 6,
   "metadata": {
    "collapsed": false
   },
   "outputs": [
    {
     "data": {
      "text/plain": [
       "u'CTAACCCTAACCCTAACCCTAACCCTAACCCTAACCCTAACCCTAACCCTCACCCTACCCTAACCCTAACCCTAACCCTCACCCTCACCCTCACTCAACC'"
      ]
     },
     "execution_count": 6,
     "metadata": {},
     "output_type": "execute_result"
    }
   ],
   "source": [
    "client.listReferenceBases(referenceId, start=10000, end=10100)"
   ]
  },
  {
   "cell_type": "markdown",
   "metadata": {},
   "source": [
    "## Search/Get Dataset"
   ]
  },
  {
   "cell_type": "code",
   "execution_count": 7,
   "metadata": {
    "collapsed": false
   },
   "outputs": [],
   "source": [
    "results = client.searchDatasets()\n",
    "for result in results:\n",
    "    datasetId =  result.toJsonDict()['id']"
   ]
  },
  {
   "cell_type": "code",
   "execution_count": 8,
   "metadata": {
    "collapsed": false
   },
   "outputs": [
    {
     "name": "stdout",
     "output_type": "stream",
     "text": [
      "Dataset({\"description\": null, \"name\": \"1kg-p3-subset\", \"id\": \"MWtnLXAzLXN1YnNldA==\"})\n"
     ]
    }
   ],
   "source": [
    "dataset = client.getDataset(datasetId)\n",
    "print dataset"
   ]
  },
  {
   "cell_type": "markdown",
   "metadata": {},
   "source": [
    "## Search/Get VariantSets"
   ]
  },
  {
   "cell_type": "code",
   "execution_count": 9,
   "metadata": {
    "collapsed": false
   },
   "outputs": [],
   "source": [
    "results = client.searchVariantSets(datasetId)\n",
    "for result in results:\n",
    "    variantSetId = result.toJsonDict()['id']"
   ]
  },
  {
   "cell_type": "code",
   "execution_count": 10,
   "metadata": {
    "collapsed": false
   },
   "outputs": [
    {
     "name": "stdout",
     "output_type": "stream",
     "text": [
      "VariantSet({\"name\": \"mvncall\", \"referenceSetId\": \"\", \"id\": \"MWtnLXAzLXN1YnNldDptdm5jYWxs\", \"datasetId\": \"MWtnLXAzLXN1YnNldA==\", \"metadata\": [{\"info\": {}, \"description\": \"\", \"number\": \"1\", \"value\": \"VCFv4.1\", \"key\": \"version\", \"type\": \"String\", \"id\": \"\"}, {\"info\": {}, \"description\": \"Confidence interval around END for imprecise variants\", \"number\": \"2\", \"value\": \"\", \"key\": \"INFO.CIEND\", \"type\": \"Integer\", \"id\": \"\"}, {\"info\": {}, \"description\": \"Confidence interval around POS for imprecise variants\", \"number\": \"2\", \"value\": \"\", \"key\": \"INFO.CIPOS\", \"type\": \"Integer\", \"id\": \"\"}, {\"info\": {}, \"description\": \"Source call set.\", \"number\": \"1\", \"value\": \"\", \"key\": \"INFO.CS\", \"type\": \"String\", \"id\": \"\"}, {\"info\": {}, \"description\": \"End coordinate of this variant\", \"number\": \"1\", \"value\": \"\", \"key\": \"INFO.END\", \"type\": \"Integer\", \"id\": \"\"}, {\"info\": {}, \"description\": \"Imprecise structural variation\", \"number\": \"0\", \"value\": \"\", \"key\": \"INFO.IMPRECISE\", \"type\": \"Flag\", \"id\": \"\"}, {\"info\": {}, \"description\": \"Merged calls.\", \"number\": \".\", \"value\": \"\", \"key\": \"INFO.MC\", \"type\": \"String\", \"id\": \"\"}, {\"info\": {}, \"description\": \"Mobile element info of the form NAME,START,END<POLARITY; If there is only 5' OR 3' support for this call, will be NULL NULL for START and END\", \"number\": \"4\", \"value\": \"\", \"key\": \"INFO.MEINFO\", \"type\": \"String\", \"id\": \"\"}, {\"info\": {}, \"description\": \"Mitochondrial end coordinate of inserted sequence\", \"number\": \"1\", \"value\": \"\", \"key\": \"INFO.MEND\", \"type\": \"Integer\", \"id\": \"\"}, {\"info\": {}, \"description\": \"Estimated length of mitochondrial insert\", \"number\": \"1\", \"value\": \"\", \"key\": \"INFO.MLEN\", \"type\": \"Integer\", \"id\": \"\"}, {\"info\": {}, \"description\": \"Mitochondrial start coordinate of inserted sequence\", \"number\": \"1\", \"value\": \"\", \"key\": \"INFO.MSTART\", \"type\": \"Integer\", \"id\": \"\"}, {\"info\": {}, \"description\": \"SV length. It is only calculated for structural variation MEIs. For other types of SVs; one may calculate the SV length by INFO:END-START+1, or by finding the difference between lengthes of REF and ALT alleles\", \"number\": \".\", \"value\": \"\", \"key\": \"INFO.SVLEN\", \"type\": \"Integer\", \"id\": \"\"}, {\"info\": {}, \"description\": \"Type of structural variant\", \"number\": \"1\", \"value\": \"\", \"key\": \"INFO.SVTYPE\", \"type\": \"String\", \"id\": \"\"}, {\"info\": {}, \"description\": \"Precise Target Site Duplication for bases, if unknown, value will be NULL\", \"number\": \"1\", \"value\": \"\", \"key\": \"INFO.TSD\", \"type\": \"String\", \"id\": \"\"}, {\"info\": {}, \"description\": \"Total number of alternate alleles in called genotypes\", \"number\": \"A\", \"value\": \"\", \"key\": \"INFO.AC\", \"type\": \"Integer\", \"id\": \"\"}, {\"info\": {}, \"description\": \"Estimated allele frequency in the range (0,1)\", \"number\": \"A\", \"value\": \"\", \"key\": \"INFO.AF\", \"type\": \"Float\", \"id\": \"\"}, {\"info\": {}, \"description\": \"Number of samples with data\", \"number\": \"1\", \"value\": \"\", \"key\": \"INFO.NS\", \"type\": \"Integer\", \"id\": \"\"}, {\"info\": {}, \"description\": \"Total number of alleles in called genotypes\", \"number\": \"1\", \"value\": \"\", \"key\": \"INFO.AN\", \"type\": \"Integer\", \"id\": \"\"}, {\"info\": {}, \"description\": \"Allele frequency in the EAS populations calculated from AC and AN, in the range (0,1)\", \"number\": \"A\", \"value\": \"\", \"key\": \"INFO.EAS_AF\", \"type\": \"Float\", \"id\": \"\"}, {\"info\": {}, \"description\": \"Allele frequency in the EUR populations calculated from AC and AN, in the range (0,1)\", \"number\": \"A\", \"value\": \"\", \"key\": \"INFO.EUR_AF\", \"type\": \"Float\", \"id\": \"\"}, {\"info\": {}, \"description\": \"Allele frequency in the AFR populations calculated from AC and AN, in the range (0,1)\", \"number\": \"A\", \"value\": \"\", \"key\": \"INFO.AFR_AF\", \"type\": \"Float\", \"id\": \"\"}, {\"info\": {}, \"description\": \"Allele frequency in the AMR populations calculated from AC and AN, in the range (0,1)\", \"number\": \"A\", \"value\": \"\", \"key\": \"INFO.AMR_AF\", \"type\": \"Float\", \"id\": \"\"}, {\"info\": {}, \"description\": \"Allele frequency in the SAS populations calculated from AC and AN, in the range (0,1)\", \"number\": \"A\", \"value\": \"\", \"key\": \"INFO.SAS_AF\", \"type\": \"Float\", \"id\": \"\"}, {\"info\": {}, \"description\": \"Total read depth; only low coverage data were counted towards the DP, exome data were not used\", \"number\": \"1\", \"value\": \"\", \"key\": \"INFO.DP\", \"type\": \"Integer\", \"id\": \"\"}, {\"info\": {}, \"description\": \"Ancestral Allele. Format: AA|REF|ALT|IndelType. AA: Ancestral allele, REF:Reference Allele, ALT:Alternate Allele, IndelType:Type of Indel (REF, ALT and IndelType are only defined for indels)\", \"number\": \"1\", \"value\": \"\", \"key\": \"INFO.AA\", \"type\": \"String\", \"id\": \"\"}, {\"info\": {}, \"description\": \"indicates what type of variant the line represents\", \"number\": \".\", \"value\": \"\", \"key\": \"INFO.VT\", \"type\": \"String\", \"id\": \"\"}, {\"info\": {}, \"description\": \"indicates whether a variant is within the exon pull down target boundaries\", \"number\": \"0\", \"value\": \"\", \"key\": \"INFO.EX_TARGET\", \"type\": \"Flag\", \"id\": \"\"}, {\"info\": {}, \"description\": \"indicates whether a site is multi-allelic\", \"number\": \"0\", \"value\": \"\", \"key\": \"INFO.MULTI_ALLELIC\", \"type\": \"Flag\", \"id\": \"\"}]})\n"
     ]
    }
   ],
   "source": [
    "variantSet = client.getVariantSet(variantSetId)\n",
    "print variantSet"
   ]
  },
  {
   "cell_type": "markdown",
   "metadata": {},
   "source": [
    "## Search/Get Callset"
   ]
  },
  {
   "cell_type": "markdown",
   "metadata": {},
   "source": [
    "Callsets apply to the samples within a dataset"
   ]
  },
  {
   "cell_type": "code",
   "execution_count": 11,
   "metadata": {
    "collapsed": false
   },
   "outputs": [
    {
     "name": "stdout",
     "output_type": "stream",
     "text": [
      "HG00096\n",
      "HG00533\n",
      "HG00534\n"
     ]
    }
   ],
   "source": [
    "results = client.searchCallSets(variantSetId)\n",
    "for result in results:\n",
    "    print result.toJsonDict()['name']\n",
    "    callSetId =  result.toJsonDict()['id']"
   ]
  },
  {
   "cell_type": "code",
   "execution_count": 12,
   "metadata": {
    "collapsed": false
   },
   "outputs": [
    {
     "name": "stdout",
     "output_type": "stream",
     "text": [
      "CallSet({\"info\": {}, \"updated\": 1444663564000, \"name\": \"HG00534\", \"created\": 1444663564000, \"sampleId\": \"HG00534\", \"variantSetIds\": [\"MWtnLXAzLXN1YnNldDptdm5jYWxs\"], \"id\": \"MWtnLXAzLXN1YnNldDptdm5jYWxsOkhHMDA1MzQ=\"})\n"
     ]
    }
   ],
   "source": [
    "callset = client.getCallSet(callSetId)\n",
    "print callset"
   ]
  },
  {
   "cell_type": "markdown",
   "metadata": {},
   "source": [
    "## Search/Get variants"
   ]
  },
  {
   "cell_type": "code",
   "execution_count": 13,
   "metadata": {
    "collapsed": false
   },
   "outputs": [],
   "source": [
    "results = client.searchVariantSets(datasetId)\n",
    "for result in results:\n",
    "    variantSetId = result.toJsonDict()['id']"
   ]
  },
  {
   "cell_type": "code",
   "execution_count": 14,
   "metadata": {
    "collapsed": true
   },
   "outputs": [],
   "source": [
    "variantset = client.getVariantSet(variantSetId)"
   ]
  },
  {
   "cell_type": "code",
   "execution_count": 15,
   "metadata": {
    "collapsed": false
   },
   "outputs": [
    {
     "name": "stdout",
     "output_type": "stream",
     "text": [
      "VariantSet({\"name\": \"mvncall\", \"referenceSetId\": \"\", \"id\": \"MWtnLXAzLXN1YnNldDptdm5jYWxs\", \"datasetId\": \"MWtnLXAzLXN1YnNldA==\", \"metadata\": [{\"info\": {}, \"description\": \"\", \"number\": \"1\", \"value\": \"VCFv4.1\", \"key\": \"version\", \"type\": \"String\", \"id\": \"\"}, {\"info\": {}, \"description\": \"Confidence interval around END for imprecise variants\", \"number\": \"2\", \"value\": \"\", \"key\": \"INFO.CIEND\", \"type\": \"Integer\", \"id\": \"\"}, {\"info\": {}, \"description\": \"Confidence interval around POS for imprecise variants\", \"number\": \"2\", \"value\": \"\", \"key\": \"INFO.CIPOS\", \"type\": \"Integer\", \"id\": \"\"}, {\"info\": {}, \"description\": \"Source call set.\", \"number\": \"1\", \"value\": \"\", \"key\": \"INFO.CS\", \"type\": \"String\", \"id\": \"\"}, {\"info\": {}, \"description\": \"End coordinate of this variant\", \"number\": \"1\", \"value\": \"\", \"key\": \"INFO.END\", \"type\": \"Integer\", \"id\": \"\"}, {\"info\": {}, \"description\": \"Imprecise structural variation\", \"number\": \"0\", \"value\": \"\", \"key\": \"INFO.IMPRECISE\", \"type\": \"Flag\", \"id\": \"\"}, {\"info\": {}, \"description\": \"Merged calls.\", \"number\": \".\", \"value\": \"\", \"key\": \"INFO.MC\", \"type\": \"String\", \"id\": \"\"}, {\"info\": {}, \"description\": \"Mobile element info of the form NAME,START,END<POLARITY; If there is only 5' OR 3' support for this call, will be NULL NULL for START and END\", \"number\": \"4\", \"value\": \"\", \"key\": \"INFO.MEINFO\", \"type\": \"String\", \"id\": \"\"}, {\"info\": {}, \"description\": \"Mitochondrial end coordinate of inserted sequence\", \"number\": \"1\", \"value\": \"\", \"key\": \"INFO.MEND\", \"type\": \"Integer\", \"id\": \"\"}, {\"info\": {}, \"description\": \"Estimated length of mitochondrial insert\", \"number\": \"1\", \"value\": \"\", \"key\": \"INFO.MLEN\", \"type\": \"Integer\", \"id\": \"\"}, {\"info\": {}, \"description\": \"Mitochondrial start coordinate of inserted sequence\", \"number\": \"1\", \"value\": \"\", \"key\": \"INFO.MSTART\", \"type\": \"Integer\", \"id\": \"\"}, {\"info\": {}, \"description\": \"SV length. It is only calculated for structural variation MEIs. For other types of SVs; one may calculate the SV length by INFO:END-START+1, or by finding the difference between lengthes of REF and ALT alleles\", \"number\": \".\", \"value\": \"\", \"key\": \"INFO.SVLEN\", \"type\": \"Integer\", \"id\": \"\"}, {\"info\": {}, \"description\": \"Type of structural variant\", \"number\": \"1\", \"value\": \"\", \"key\": \"INFO.SVTYPE\", \"type\": \"String\", \"id\": \"\"}, {\"info\": {}, \"description\": \"Precise Target Site Duplication for bases, if unknown, value will be NULL\", \"number\": \"1\", \"value\": \"\", \"key\": \"INFO.TSD\", \"type\": \"String\", \"id\": \"\"}, {\"info\": {}, \"description\": \"Total number of alternate alleles in called genotypes\", \"number\": \"A\", \"value\": \"\", \"key\": \"INFO.AC\", \"type\": \"Integer\", \"id\": \"\"}, {\"info\": {}, \"description\": \"Estimated allele frequency in the range (0,1)\", \"number\": \"A\", \"value\": \"\", \"key\": \"INFO.AF\", \"type\": \"Float\", \"id\": \"\"}, {\"info\": {}, \"description\": \"Number of samples with data\", \"number\": \"1\", \"value\": \"\", \"key\": \"INFO.NS\", \"type\": \"Integer\", \"id\": \"\"}, {\"info\": {}, \"description\": \"Total number of alleles in called genotypes\", \"number\": \"1\", \"value\": \"\", \"key\": \"INFO.AN\", \"type\": \"Integer\", \"id\": \"\"}, {\"info\": {}, \"description\": \"Allele frequency in the EAS populations calculated from AC and AN, in the range (0,1)\", \"number\": \"A\", \"value\": \"\", \"key\": \"INFO.EAS_AF\", \"type\": \"Float\", \"id\": \"\"}, {\"info\": {}, \"description\": \"Allele frequency in the EUR populations calculated from AC and AN, in the range (0,1)\", \"number\": \"A\", \"value\": \"\", \"key\": \"INFO.EUR_AF\", \"type\": \"Float\", \"id\": \"\"}, {\"info\": {}, \"description\": \"Allele frequency in the AFR populations calculated from AC and AN, in the range (0,1)\", \"number\": \"A\", \"value\": \"\", \"key\": \"INFO.AFR_AF\", \"type\": \"Float\", \"id\": \"\"}, {\"info\": {}, \"description\": \"Allele frequency in the AMR populations calculated from AC and AN, in the range (0,1)\", \"number\": \"A\", \"value\": \"\", \"key\": \"INFO.AMR_AF\", \"type\": \"Float\", \"id\": \"\"}, {\"info\": {}, \"description\": \"Allele frequency in the SAS populations calculated from AC and AN, in the range (0,1)\", \"number\": \"A\", \"value\": \"\", \"key\": \"INFO.SAS_AF\", \"type\": \"Float\", \"id\": \"\"}, {\"info\": {}, \"description\": \"Total read depth; only low coverage data were counted towards the DP, exome data were not used\", \"number\": \"1\", \"value\": \"\", \"key\": \"INFO.DP\", \"type\": \"Integer\", \"id\": \"\"}, {\"info\": {}, \"description\": \"Ancestral Allele. Format: AA|REF|ALT|IndelType. AA: Ancestral allele, REF:Reference Allele, ALT:Alternate Allele, IndelType:Type of Indel (REF, ALT and IndelType are only defined for indels)\", \"number\": \"1\", \"value\": \"\", \"key\": \"INFO.AA\", \"type\": \"String\", \"id\": \"\"}, {\"info\": {}, \"description\": \"indicates what type of variant the line represents\", \"number\": \".\", \"value\": \"\", \"key\": \"INFO.VT\", \"type\": \"String\", \"id\": \"\"}, {\"info\": {}, \"description\": \"indicates whether a variant is within the exon pull down target boundaries\", \"number\": \"0\", \"value\": \"\", \"key\": \"INFO.EX_TARGET\", \"type\": \"Flag\", \"id\": \"\"}, {\"info\": {}, \"description\": \"indicates whether a site is multi-allelic\", \"number\": \"0\", \"value\": \"\", \"key\": \"INFO.MULTI_ALLELIC\", \"type\": \"Flag\", \"id\": \"\"}]})\n"
     ]
    }
   ],
   "source": [
    "print variantset"
   ]
  },
  {
   "cell_type": "markdown",
   "metadata": {},
   "source": [
    "## Search/Get Readgroupsets"
   ]
  },
  {
   "cell_type": "code",
   "execution_count": 16,
   "metadata": {
    "collapsed": false
   },
   "outputs": [
    {
     "name": "stdout",
     "output_type": "stream",
     "text": [
      "HG00096 MWtnLXAzLXN1YnNldDpIRzAwMDk2\n",
      "HG00533 MWtnLXAzLXN1YnNldDpIRzAwNTMz\n",
      "HG00534 MWtnLXAzLXN1YnNldDpIRzAwNTM0\n"
     ]
    }
   ],
   "source": [
    "results = client.searchReadGroupSets(datasetId)\n",
    "for result in results:\n",
    "    results_json = result.toJsonDict()\n",
    "    print results_json['name'], results_json['id']\n",
    "    readGroupSetId = results_json['id']\n",
    "    readGroupId = results_json['readGroups'][0]['id']"
   ]
  },
  {
   "cell_type": "code",
   "execution_count": 17,
   "metadata": {
    "collapsed": false
   },
   "outputs": [
    {
     "name": "stdout",
     "output_type": "stream",
     "text": [
      "ReadGroupSet({\"readGroups\": [{\"info\": {}, \"updated\": 1444665650769, \"predictedInsertSize\": 486, \"stats\": {\"unalignedReadCount\": -1, \"alignedReadCount\": -1, \"baseCount\": null}, \"description\": \"SRP001293\", \"created\": 1444665650769, \"programs\": [{\"commandLine\": \"bwa index -a bwtsw $reference_fasta\", \"prevProgramId\": null, \"id\": \"bwa_index\", \"version\": \"0.5.9-r16\", \"name\": \"bwa\"}, {\"commandLine\": \"bwa aln -q 15 -f $sai_file $reference_fasta $fastq_file\\tPP:bwa_index\", \"prevProgramId\": null, \"id\": \"bwa_aln_fastq\", \"version\": \"0.5.9-r16\", \"name\": \"bwa\"}, {\"commandLine\": \"bwa sampe -a 1458 -r $rg_line -f $sam_file $reference_fasta $sai_file(s) $fastq_file(s)\\tPP:bwa_aln_fastq\", \"prevProgramId\": null, \"id\": \"bwa_sam\", \"version\": \"0.5.9-r16\", \"name\": \"bwa\"}, {\"commandLine\": \"samtools view -bSu $sam_file | samtools sort -n -o - samtools_nsort_tmp | samtools fixmate /dev/stdin /dev/stdout | samtools sort -o - samtools_csort_tmp | samtools fillmd -u - $reference_fasta > $fixed_bam_file\\tPP:bwa_sam\", \"prevProgramId\": null, \"id\": \"sam_to_fixed_bam\", \"version\": \"0.1.17 (r973:277)\", \"name\": \"samtools\"}, {\"commandLine\": \"java $jvm_args -jar GenomeAnalysisTK.jar -T RealignerTargetCreator -R $reference_fasta -o $intervals_file -known $known_indels_file(s) \\tPP:sam_to_fixed_bam\", \"prevProgramId\": null, \"id\": \"gatk_target_interval_creator\", \"version\": \"1.2-29-g0acaf2d\", \"name\": \"GenomeAnalysisTK\"}, {\"commandLine\": \"java $jvm_args -jar GenomeAnalysisTK.jar -T IndelRealigner -R $reference_fasta -I $bam_file -o $realigned_bam_file -targetIntervals $intervals_file -known $known_indels_file(s) -LOD 0.4 -model KNOWNS_ONLY -compress 0 --disable_bam_indexing\\tPP:gatk_target_interval_creator\", \"prevProgramId\": null, \"id\": \"bam_realignment_around_known_indels\", \"version\": \"1.2-29-g0acaf2d\", \"name\": \"GenomeAnalysisTK\"}, {\"commandLine\": \"java $jvm_args -jar GenomeAnalysisTK.jar -T CountCovariates -R $reference_fasta -I $bam_file -recalFile $bam_file.recal_data.csv -knownSites $known_sites_file(s) -l INFO -L '1;2;3;4;5;6;7;8;9;10;11;12;13;14;15;16;17;18;19;20;21;22;X;Y;MT' -cov ReadGroupCovariate -cov QualityScoreCovariate -cov CycleCovariate -cov DinucCovariate\\tPP:bam_realignment_around_known_indels\", \"prevProgramId\": null, \"id\": \"bam_count_covariates\", \"version\": \"1.2-29-g0acaf2d\", \"name\": \"GenomeAnalysisTK\"}, {\"commandLine\": \"java $jvm_args -jar GenomeAnalysisTK.jar -T TableRecalibration -R $reference_fasta -recalFile $bam_file.recal_data.csv -I $bam_file -o $recalibrated_bam_file -l INFO -compress 0 --disable_bam_indexing\\tPP:bam_count_covariates\", \"prevProgramId\": null, \"id\": \"bam_recalibrate_quality_scores\", \"version\": \"1.2-29-g0acaf2d\", \"name\": \"GenomeAnalysisTK\"}, {\"commandLine\": \"samtools calmd -Erb $bam_file $reference_fasta > $bq_bam_file\\tPP:bam_recalibrate_quality_scores\", \"prevProgramId\": null, \"id\": \"bam_calculate_bq\", \"version\": \"0.1.17 (r973:277)\", \"name\": \"samtools\"}, {\"commandLine\": \"java $jvm_args -jar MergeSamFiles.jar INPUT=$bam_file(s) OUTPUT=$merged_bam VALIDATION_STRINGENCY=SILENT\\tPP:bam_calculate_bq\", \"prevProgramId\": null, \"id\": \"bam_merge\", \"version\": \"1.53\", \"name\": \"picard\"}, {\"commandLine\": \"java $jvm_args -jar MarkDuplicates.jar INPUT=$bam_file OUTPUT=$markdup_bam_file ASSUME_SORTED=TRUE METRICS_FILE=/dev/null VALIDATION_STRINGENCY=SILENT\\tPP:bam_merge\", \"prevProgramId\": null, \"id\": \"bam_mark_duplicates\", \"version\": \"1.53\", \"name\": \"picard\"}, {\"commandLine\": \"java $jvm_args -jar MergeSamFiles.jar INPUT=$bam_file(s) OUTPUT=$merged_bam VALIDATION_STRINGENCY=SILENT\\tPP:bam_mark_duplicates\", \"prevProgramId\": null, \"id\": \"bam_merge.1\", \"version\": \"1.53\", \"name\": \"picard\"}], \"sampleId\": \"HG00534\", \"experiment\": {\"info\": {}, \"selection\": null, \"recordCreateTime\": \"2015-10-12T16:00:50Z\", \"description\": \"SRP001293\", \"platformUnit\": null, \"sequencingCenter\": \"BGI\", \"molecule\": null, \"instrumentModel\": \"ILLUMINA\", \"library\": \"HUMwfmREKDIAAPEI-4\", \"name\": null, \"strategy\": null, \"libraryLayout\": null, \"recordUpdateTime\": \"2015-10-12T16:00:50Z\", \"runTime\": null, \"id\": \"MWtnLXAzLXN1YnNldDpIRzAwNTM0OkVSUjAyMDIzODpleHBlcmltZW50\", \"instrumentDataFile\": null}, \"referenceSetId\": \"R1JDaDM4LXN1YnNldA==\", \"id\": \"MWtnLXAzLXN1YnNldDpIRzAwNTM0OkVSUjAyMDIzOA==\", \"datasetId\": \"MWtnLXAzLXN1YnNldA==\", \"name\": \"ERR020238\"}], \"stats\": {\"unalignedReadCount\": 36, \"alignedReadCount\": 2933, \"baseCount\": null}, \"id\": \"MWtnLXAzLXN1YnNldDpIRzAwNTM0\", \"datasetId\": \"MWtnLXAzLXN1YnNldA==\", \"name\": \"HG00534\"})\n"
     ]
    }
   ],
   "source": [
    "readgroupset = client.getReadGroupSet(readGroupSetId)\n",
    "print readgroupset"
   ]
  },
  {
   "cell_type": "markdown",
   "metadata": {},
   "source": [
    "## Get ReadGroups"
   ]
  },
  {
   "cell_type": "code",
   "execution_count": 18,
   "metadata": {
    "collapsed": false
   },
   "outputs": [
    {
     "name": "stdout",
     "output_type": "stream",
     "text": [
      "ReadGroup({\"info\": {}, \"updated\": 1444665650769, \"predictedInsertSize\": 486, \"stats\": {\"unalignedReadCount\": -1, \"alignedReadCount\": -1, \"baseCount\": null}, \"description\": \"SRP001293\", \"created\": 1444665650769, \"programs\": [{\"commandLine\": \"bwa index -a bwtsw $reference_fasta\", \"prevProgramId\": null, \"id\": \"bwa_index\", \"version\": \"0.5.9-r16\", \"name\": \"bwa\"}, {\"commandLine\": \"bwa aln -q 15 -f $sai_file $reference_fasta $fastq_file\\tPP:bwa_index\", \"prevProgramId\": null, \"id\": \"bwa_aln_fastq\", \"version\": \"0.5.9-r16\", \"name\": \"bwa\"}, {\"commandLine\": \"bwa sampe -a 1458 -r $rg_line -f $sam_file $reference_fasta $sai_file(s) $fastq_file(s)\\tPP:bwa_aln_fastq\", \"prevProgramId\": null, \"id\": \"bwa_sam\", \"version\": \"0.5.9-r16\", \"name\": \"bwa\"}, {\"commandLine\": \"samtools view -bSu $sam_file | samtools sort -n -o - samtools_nsort_tmp | samtools fixmate /dev/stdin /dev/stdout | samtools sort -o - samtools_csort_tmp | samtools fillmd -u - $reference_fasta > $fixed_bam_file\\tPP:bwa_sam\", \"prevProgramId\": null, \"id\": \"sam_to_fixed_bam\", \"version\": \"0.1.17 (r973:277)\", \"name\": \"samtools\"}, {\"commandLine\": \"java $jvm_args -jar GenomeAnalysisTK.jar -T RealignerTargetCreator -R $reference_fasta -o $intervals_file -known $known_indels_file(s) \\tPP:sam_to_fixed_bam\", \"prevProgramId\": null, \"id\": \"gatk_target_interval_creator\", \"version\": \"1.2-29-g0acaf2d\", \"name\": \"GenomeAnalysisTK\"}, {\"commandLine\": \"java $jvm_args -jar GenomeAnalysisTK.jar -T IndelRealigner -R $reference_fasta -I $bam_file -o $realigned_bam_file -targetIntervals $intervals_file -known $known_indels_file(s) -LOD 0.4 -model KNOWNS_ONLY -compress 0 --disable_bam_indexing\\tPP:gatk_target_interval_creator\", \"prevProgramId\": null, \"id\": \"bam_realignment_around_known_indels\", \"version\": \"1.2-29-g0acaf2d\", \"name\": \"GenomeAnalysisTK\"}, {\"commandLine\": \"java $jvm_args -jar GenomeAnalysisTK.jar -T CountCovariates -R $reference_fasta -I $bam_file -recalFile $bam_file.recal_data.csv -knownSites $known_sites_file(s) -l INFO -L '1;2;3;4;5;6;7;8;9;10;11;12;13;14;15;16;17;18;19;20;21;22;X;Y;MT' -cov ReadGroupCovariate -cov QualityScoreCovariate -cov CycleCovariate -cov DinucCovariate\\tPP:bam_realignment_around_known_indels\", \"prevProgramId\": null, \"id\": \"bam_count_covariates\", \"version\": \"1.2-29-g0acaf2d\", \"name\": \"GenomeAnalysisTK\"}, {\"commandLine\": \"java $jvm_args -jar GenomeAnalysisTK.jar -T TableRecalibration -R $reference_fasta -recalFile $bam_file.recal_data.csv -I $bam_file -o $recalibrated_bam_file -l INFO -compress 0 --disable_bam_indexing\\tPP:bam_count_covariates\", \"prevProgramId\": null, \"id\": \"bam_recalibrate_quality_scores\", \"version\": \"1.2-29-g0acaf2d\", \"name\": \"GenomeAnalysisTK\"}, {\"commandLine\": \"samtools calmd -Erb $bam_file $reference_fasta > $bq_bam_file\\tPP:bam_recalibrate_quality_scores\", \"prevProgramId\": null, \"id\": \"bam_calculate_bq\", \"version\": \"0.1.17 (r973:277)\", \"name\": \"samtools\"}, {\"commandLine\": \"java $jvm_args -jar MergeSamFiles.jar INPUT=$bam_file(s) OUTPUT=$merged_bam VALIDATION_STRINGENCY=SILENT\\tPP:bam_calculate_bq\", \"prevProgramId\": null, \"id\": \"bam_merge\", \"version\": \"1.53\", \"name\": \"picard\"}, {\"commandLine\": \"java $jvm_args -jar MarkDuplicates.jar INPUT=$bam_file OUTPUT=$markdup_bam_file ASSUME_SORTED=TRUE METRICS_FILE=/dev/null VALIDATION_STRINGENCY=SILENT\\tPP:bam_merge\", \"prevProgramId\": null, \"id\": \"bam_mark_duplicates\", \"version\": \"1.53\", \"name\": \"picard\"}, {\"commandLine\": \"java $jvm_args -jar MergeSamFiles.jar INPUT=$bam_file(s) OUTPUT=$merged_bam VALIDATION_STRINGENCY=SILENT\\tPP:bam_mark_duplicates\", \"prevProgramId\": null, \"id\": \"bam_merge.1\", \"version\": \"1.53\", \"name\": \"picard\"}], \"sampleId\": \"HG00534\", \"experiment\": {\"info\": {}, \"selection\": null, \"recordCreateTime\": \"2015-10-12T16:00:50Z\", \"description\": \"SRP001293\", \"platformUnit\": null, \"sequencingCenter\": \"BGI\", \"molecule\": null, \"instrumentModel\": \"ILLUMINA\", \"library\": \"HUMwfmREKDIAAPEI-4\", \"name\": null, \"strategy\": null, \"libraryLayout\": null, \"recordUpdateTime\": \"2015-10-12T16:00:50Z\", \"runTime\": null, \"id\": \"MWtnLXAzLXN1YnNldDpIRzAwNTM0OkVSUjAyMDIzODpleHBlcmltZW50\", \"instrumentDataFile\": null}, \"referenceSetId\": \"R1JDaDM4LXN1YnNldA==\", \"id\": \"MWtnLXAzLXN1YnNldDpIRzAwNTM0OkVSUjAyMDIzOA==\", \"datasetId\": \"MWtnLXAzLXN1YnNldA==\", \"name\": \"ERR020238\"})\n"
     ]
    }
   ],
   "source": [
    "readgroup = client.getReadGroup(readGroupId)\n",
    "print readgroup"
   ]
  },
  {
   "cell_type": "markdown",
   "metadata": {},
   "source": [
    "## Get Reads"
   ]
  },
  {
   "cell_type": "code",
   "execution_count": 19,
   "metadata": {
    "collapsed": false
   },
   "outputs": [
    {
     "name": "stdout",
     "output_type": "stream",
     "text": [
      "997 reads in readgroup id = MWtnLXAzLXN1YnNldDpIRzAwNTM0OkVSUjAyMDIzOA== on chrom id = R1JDaDM4LXN1YnNldDoz\n"
     ]
    }
   ],
   "source": [
    "results = client.searchReads([readGroupId], referenceId)\n",
    "for i, result in enumerate(results):\n",
    "    readId = result.toJsonDict()['id']\n",
    "print \"%d reads in readgroup id = %s on chrom id = %s\" % (i, readGroupId, referenceId)"
   ]
  },
  {
   "cell_type": "code",
   "execution_count": 20,
   "metadata": {
    "collapsed": false
   },
   "outputs": [
    {
     "name": "stdout",
     "output_type": "stream",
     "text": [
      "ReadAlignment({\"info\": {\"MD\": [\"15A75\"], \"NM\": [\"1\"], \"AM\": [\"37\"], \"RG\": [\"ERR020238\"], \"MQ\": [\"60\"], \"BQ\": [\"@@@@@@@@@@@@@@@@@@@@@@@@@@@@@@@@@@@@@@@@@@@@@@@@@@@@@@@@@@@@@@@@@@@@@@@@@@@@@@@@@@@@@@@@@@@\"], \"SM\": [\"37\"], \"X0\": [\"1\"], \"X1\": [\"0\"], \"XT\": [\"U\"]}, \"duplicateFragment\": false, \"readGroupId\": \"MWtnLXAzLXN1YnNldDpIRzAwNTM0OkVSUjAyMDIzOA==\", \"alignedQuality\": [35, 37, 40, 39, 39, 41, 41, 39, 42, 43, 42, 42, 44, 43, 41, 44, 40, 42, 37, 43, 42, 40, 41, 41, 41, 43, 41, 42, 38, 43, 41, 41, 44, 44, 42, 44, 39, 42, 42, 44, 43, 43, 42, 45, 42, 43, 43, 42, 42, 43, 42, 42, 39, 44, 44, 44, 40, 44, 43, 42, 42, 43, 42, 44, 43, 42, 43, 44, 41, 41, 43, 42, 41, 41, 41, 42, 41, 40, 41, 42, 41, 40, 40, 40, 39, 41, 38, 38, 37, 37, 35], \"failedVendorQualityChecks\": false, \"fragmentName\": \"ERR020238.14295398\", \"readNumber\": 0, \"properPlacement\": true, \"fragmentId\": \"TODO\", \"supplementaryAlignment\": false, \"numberReads\": 2, \"fragmentLength\": -477, \"secondaryAlignment\": false, \"alignedSequence\": \"CAAGGGGGTGCAAGGTTATGCACAAAGGAATACCACAATCATATTACAATGAATCCTCCTACAAGGCAGATTATACTGACCTACAAGCTTC\", \"id\": \"MWtnLXAzLXN1YnNldDpIRzAwNTM0OkVSUjAyMDIzODpFUlIwMjAyMzguMTQyOTUzOTg=\", \"alignment\": {\"position\": {\"position\": 75068, \"strand\": \"NEG_STRAND\", \"referenceName\": \"3\"}, \"cigar\": [{\"referenceSequence\": null, \"operation\": \"ALIGNMENT_MATCH\", \"operationLength\": 91}], \"mappingQuality\": 60}, \"nextMatePosition\": {\"position\": 74681, \"strand\": \"POS_STRAND\", \"referenceName\": \"3\"}})\n"
     ]
    }
   ],
   "source": [
    "print result"
   ]
  },
  {
   "cell_type": "code",
   "execution_count": null,
   "metadata": {
    "collapsed": true
   },
   "outputs": [],
   "source": []
  }
 ],
 "metadata": {
  "kernelspec": {
   "display_name": "Python 2",
   "language": "python",
   "name": "python2"
  },
  "language_info": {
   "codemirror_mode": {
    "name": "ipython",
    "version": 2
   },
   "file_extension": ".py",
   "mimetype": "text/x-python",
   "name": "python",
   "nbconvert_exporter": "python",
   "pygments_lexer": "ipython2",
   "version": "2.7.10"
  }
 },
 "nbformat": 4,
 "nbformat_minor": 0
}
